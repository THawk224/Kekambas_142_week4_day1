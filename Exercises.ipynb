{
 "cells": [
  {
   "cell_type": "code",
   "execution_count": null,
   "metadata": {},
   "outputs": [],
   "source": [
    "import re"
   ]
  },
  {
   "cell_type": "markdown",
   "metadata": {},
   "source": [
    "### Exercise 1"
   ]
  },
  {
   "cell_type": "markdown",
   "metadata": {},
   "source": [
    "Write a function that takes in a tweet and returns a list of the hashtags in the tweet<br>\n",
    "Ex. 1<br>\n",
    "tweet = \"Python is the best #Python #Programming #CodingTemple\"<br>\n",
    "Expected Output: [\"#Python\", \"#Programming\", \"#CodingTemple\"]<br>\n",
    "\n",
    "Ex. 2<br>\n",
    "tweet = \"I love my life! #blessed\"<br>\n",
    "Expected Output: [\"#bleesed\"]<br>\n",
    "\n",
    "Ex. 3<br>\n",
    "tweet = \"Bear Down\"<br>\n",
    "Expected Output: []<br>\n"
   ]
  },
  {
   "cell_type": "code",
   "execution_count": 2,
   "metadata": {},
   "outputs": [
    {
     "name": "stdout",
     "output_type": "stream",
     "text": [
      "['#Python', '#Programming', '#CodingTemple']\n",
      "['#blessed']\n",
      "[]\n"
     ]
    }
   ],
   "source": [
    "def extract_hashtags(tweet):\n",
    "    \"\"\"\n",
    "    This function takes a tweet, a string, as input and returns a list of hashtags found in the tweet.\n",
    "    \n",
    "    Parameters:\n",
    "    tweet (str): The tweet from which hashtags are to be extracted.\n",
    "    \n",
    "    Returns:\n",
    "    list: A list of hashtags present in the tweet.\n",
    "    \n",
    "    Example:\n",
    "    >>> extract_hashtags(\"Python is the best #Python #Programming #CodingTemple\")\n",
    "    ['#Python', '#Programming', '#CodingTemple']\n",
    "    \n",
    "    >>> extract_hashtags(\"I love my life! #blessed\")\n",
    "    ['#blessed']\n",
    "    \n",
    "    >>> extract_hashtags(\"Bear Down\")\n",
    "    []\n",
    "    \"\"\"\n",
    "    # Split the tweet into words\n",
    "    words = tweet.split()\n",
    "    # Initialize an empty list to store hashtags\n",
    "    hashtags = []\n",
    "    # Loop through each word in the list\n",
    "    for word in words:\n",
    "        # If the word starts with a hashtag, add it to the hashtags list\n",
    "        if word.startswith('#'):\n",
    "            hashtags.append(word)\n",
    "    return hashtags\n",
    "\n",
    "# Example usage:\n",
    "if __name__ == \"__main__\":\n",
    "    tweet1 = \"Python is the best #Python #Programming #CodingTemple\"\n",
    "    print(extract_hashtags(tweet1))\n",
    "    \n",
    "    tweet2 = \"I love my life! #blessed\"\n",
    "    print(extract_hashtags(tweet2))\n",
    "    \n",
    "    tweet3 = \"Bear Down\"\n",
    "    print(extract_hashtags(tweet3))\n"
   ]
  },
  {
   "cell_type": "code",
   "execution_count": null,
   "metadata": {},
   "outputs": [],
   "source": []
  },
  {
   "cell_type": "markdown",
   "metadata": {},
   "source": [
    "### Exercise 2"
   ]
  },
  {
   "cell_type": "markdown",
   "metadata": {},
   "source": [
    "Develop a regular expression to validate a username. The username should start with a letter, followed by any combination of letters, numbers, underscores, and dots. It should be between 3 and 16 characters long<br>\n",
    "Ex. 1 <br>\n",
    "username = \"CodingTemple123\"<br>\n",
    "Expected Output: True<br>\n",
    "\n",
    "Ex. 2 <br>\n",
    "username = \"1love\"<br>\n",
    "Expected Output: False<br>\n",
    "\n",
    "Ex. 3 <br>\n",
    "username = \"CT\"<br>\n",
    "Expected Output: False<br>\n",
    "\n",
    "Ex. 4 <br>\n",
    "username = \"This_is_a_username_that_I_would_like_to_use\"<br>\n",
    "Expected Output: False<br>\n",
    "\n",
    "Ex. 5 <br>\n",
    "username = \"brian_ct123\"<br>\n",
    "Expected Output: True<br>"
   ]
  },
  {
   "cell_type": "code",
   "execution_count": 3,
   "metadata": {
    "scrolled": true
   },
   "outputs": [
    {
     "name": "stdout",
     "output_type": "stream",
     "text": [
      "Username: CodingTemple123, Valid: True\n",
      "Username: 1love, Valid: False\n",
      "Username: CT, Valid: False\n",
      "Username: This_is_a_username_that_I_would_like_to_use, Valid: False\n",
      "Username: brian_ct123, Valid: True\n"
     ]
    }
   ],
   "source": [
    "import re\n",
    "\n",
    "def validate_username(username):\n",
    "    \"\"\"\n",
    "    Validates a username using a regular expression.\n",
    "    \n",
    "    The username must:\n",
    "    - Start with a letter.\n",
    "    - Follow with any combination of letters, numbers, underscores, and dots.\n",
    "    - Be between 3 and 16 characters long.\n",
    "    \n",
    "    Parameters:\n",
    "    - username (str): The username to validate.\n",
    "    \n",
    "    Returns:\n",
    "    - bool: True if the username is valid, False otherwise.\n",
    "    \"\"\"\n",
    "    \n",
    "    # Regular expression for validating the username\n",
    "    # ^[a-zA-Z] specifies the username must start with a letter\n",
    "    # [a-zA-Z0-9._] allows letters, numbers, underscores, and dots.\n",
    "    # {2,15} specifies the length of the remaining characters (total length: 3-16)\n",
    "    # $ denotes the end of the string\n",
    "    pattern = r'^[a-zA-Z][a-zA-Z0-9._]{2,15}$'\n",
    "    \n",
    "    # re.match returns a Match object if the pattern is found, None otherwise\n",
    "    if re.match(pattern, username):\n",
    "        return True\n",
    "    else:\n",
    "        return False\n",
    "\n",
    "# Example usage\n",
    "if __name__ == \"__main__\":\n",
    "    usernames = [\"CodingTemple123\", \"1love\", \"CT\", \"This_is_a_username_that_I_would_like_to_use\", \"brian_ct123\"]\n",
    "    \n",
    "    for username in usernames:\n",
    "        result = validate_username(username)\n",
    "        print(f\"Username: {username}, Valid: {result}\")\n"
   ]
  },
  {
   "cell_type": "code",
   "execution_count": null,
   "metadata": {},
   "outputs": [],
   "source": []
  },
  {
   "cell_type": "markdown",
   "metadata": {},
   "source": [
    "### Exercise 3"
   ]
  },
  {
   "cell_type": "markdown",
   "metadata": {},
   "source": [
    "Using the Python `open()` function, read in the `example.txt` file (attached in Google Classroom, make sure it is in the same folder as this notebook). Create a pattern that will find all of the dates in the text. Dates are in the format of YYYY-MM-DD. The pattern should have groups for year, month, and day. Using the `.finditer()` method, iterate over the dates and print in format of month/day/year<br>"
   ]
  },
  {
   "cell_type": "markdown",
   "metadata": {},
   "source": [
    "Output:\n",
    "```\n",
    "05/15/1990\n",
    "09/20/2015\n",
    "12/03/1985\n",
    "06/18/2010\n",
    "11/30/2002\n",
    "08/10/1978\n",
    "04/25/1992\n",
    "07/07/2019\n",
    "02/12/1980\n",
    "03/22/2005\n",
    "```"
   ]
  },
  {
   "cell_type": "code",
   "execution_count": 5,
   "metadata": {},
   "outputs": [
    {
     "name": "stdout",
     "output_type": "stream",
     "text": [
      "05/15/1990\n",
      "09/20/2015\n",
      "12/03/1985\n",
      "06/18/2010\n",
      "11/30/2002\n",
      "08/10/1978\n",
      "04/25/1992\n",
      "07/07/2019\n",
      "02/12/1980\n",
      "03/22/2005\n"
     ]
    }
   ],
   "source": [
    "import re\n",
    "\n",
    "def find_dates_in_text(file_path):\n",
    "    \"\"\"\n",
    "    This function reads a text file and finds dates in the format of YYYY-MM-DD.\n",
    "    \n",
    "    Args:\n",
    "    file_path (str): Path to the text file\n",
    "    \n",
    "    Returns:\n",
    "    None\n",
    "    \"\"\"\n",
    "    \n",
    "    # Open the file in read mode\n",
    "    with open(file_path, 'r') as file:\n",
    "        text = file.read()\n",
    "        \n",
    "        # Define the pattern to find dates in the format of YYYY-MM-DD\n",
    "        pattern = re.compile(r'(\\d{4})-(\\d{2})-(\\d{2})')\n",
    "        \n",
    "        # Find all dates in the text using finditer\n",
    "        for match in pattern.finditer(text):\n",
    "            year, month, day = match.groups()\n",
    "            print(f\"{month}/{day}/{year}\")\n",
    "            \n",
    "# Call the function with the file path\n",
    "find_dates_in_text('example.txt')\n"
   ]
  },
  {
   "cell_type": "code",
   "execution_count": null,
   "metadata": {},
   "outputs": [],
   "source": []
  }
 ],
 "metadata": {
  "kernelspec": {
   "display_name": "Python 3 (ipykernel)",
   "language": "python",
   "name": "python3"
  },
  "language_info": {
   "codemirror_mode": {
    "name": "ipython",
    "version": 3
   },
   "file_extension": ".py",
   "mimetype": "text/x-python",
   "name": "python",
   "nbconvert_exporter": "python",
   "pygments_lexer": "ipython3",
   "version": "3.11.5"
  }
 },
 "nbformat": 4,
 "nbformat_minor": 4
}
